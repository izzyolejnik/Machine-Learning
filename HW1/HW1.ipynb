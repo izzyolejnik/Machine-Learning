

import numpy as np
class EmptyList(Exception):
     """"Raised when the input list is empty"""
     pass
class InvalidMatrices(Exception):
     """"Raised when the matrices can't be multiplied"""
     pass

my_list0 = []
my_list1 = []
my_list2 = []

my_array1 = np.array(([[1,2,1,8], [4,2,9,7], [2,5,1,1]]))
my_array2 = np.array(([[0,3,6], [6,6,3], [8,1,5], [0,2,1]]))
my_array3 = np.array(([[7,4,5,2], [2,4,6,3], [6,4,3,3]]))
my_array4 = np.array(([[0,1,3,4], [7,9,1,5], [9,3,5,4],[4,5,6,7]]))
my_array5 = np.array(([[1,1], [2,2]]))

my_list1.append(my_array1)
my_list1.append(my_array2)
my_list1.append(my_array3)

my_list2.append(my_array1)
my_list2.append(my_array2)
my_list2.append(my_array5)

def multiply_matrices(listy):
  if len(listy) == 0:
    raise EmptyList('Input list was emptys')
  result = listy[0];
  counter = 1;
  while(counter < len(listy)):
    (a, column) = result.shape
    (row, b) = listy[counter].shape
    if(column != row):
      raise InvalidMatrices('Invalid Matrices: Array #{} had {} cols and Array #{} had {} rows'.format(counter-1,column, counter, row))
    c = result.dot(listy[counter])
    result = c
    counter = counter + 1
  print(result)

multiply_matrices(my_list1)
multiply_matrices(my_list2)
multiply_matrices(my_list0)
  
  
