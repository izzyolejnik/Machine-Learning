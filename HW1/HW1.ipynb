https://colab.research.google.com/drive/1cPYHiPo5nUmPBf734yiUTaH3rrDYM832
