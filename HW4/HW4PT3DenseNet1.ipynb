{
  "nbformat": 4,
  "nbformat_minor": 0,
  "metadata": {
    "colab": {
      "name": "HW4PT3DenseNet",
      "provenance": [],
      "collapsed_sections": [],
      "include_colab_link": true
    },
    "kernelspec": {
      "name": "python3",
      "display_name": "Python 3"
    },
    "accelerator": "GPU"
  },
  "cells": [
    {
      "cell_type": "markdown",
      "metadata": {
        "id": "view-in-github",
        "colab_type": "text"
      },
      "source": [
        "<a href=\"https://colab.research.google.com/github/izzyolejnik/Machine-Learning/blob/master/HW4/HW4PT3DenseNet1.ipynb\" target=\"_parent\"><img src=\"https://colab.research.google.com/assets/colab-badge.svg\" alt=\"Open In Colab\"/></a>"
      ]
    },
    {
      "cell_type": "markdown",
      "metadata": {
        "id": "KSrgMJ5vKFzQ",
        "colab_type": "text"
      },
      "source": [
        "# Fine-tuning DenseNet\n"
      ]
    },
    {
      "cell_type": "markdown",
      "metadata": {
        "id": "TIW7bZaAK-Hf",
        "colab_type": "text"
      },
      "source": [
        "This is an extension of Proffesor Wocjan's VGG16 finetuning notebook to use DenseNet instead."
      ]
    },
    {
      "cell_type": "markdown",
      "metadata": {
        "id": "nsBq__dVo2pj",
        "colab_type": "text"
      },
      "source": [
        "## Feature extraction"
      ]
    },
    {
      "cell_type": "markdown",
      "metadata": {
        "id": "0g6ETAM9o54M",
        "colab_type": "text"
      },
      "source": [
        "Feature extraction consists of using the representations learned by a previous network to extract interesting features from new samples. These features are then run through a new classifier, which is trained from scratch.\n",
        "\n",
        "We will use here the convolutional base of the Densenet model to extract the features. We will feed these features to a densely connected classifier with dropout. We will fine-tune some layers."
      ]
    },
    {
      "cell_type": "markdown",
      "metadata": {
        "id": "BqIG8QHMLNOn",
        "colab_type": "text"
      },
      "source": [
        "## Download the data"
      ]
    },
    {
      "cell_type": "markdown",
      "metadata": {
        "id": "t3I1jd7cKV6_",
        "colab_type": "text"
      },
      "source": [
        "Download the example data, a zip. of 2,000 JPG pictures of cats and dogs and extract it locally in ```/tmp```.\n",
        "\n"
      ]
    },
    {
      "cell_type": "code",
      "metadata": {
        "id": "JWjprHEXJ5Qi",
        "colab_type": "code",
        "outputId": "48bad707-2e28-46ae-c1ae-0dfd7327948e",
        "colab": {
          "base_uri": "https://localhost:8080/",
          "height": 227
        }
      },
      "source": [
        "!wget --no-check-certificate \\\n",
        "    https://storage.googleapis.com/mledu-datasets/cats_and_dogs_filtered.zip \\\n",
        "    -O /tmp/cats_and_dogs_filtered.zip"
      ],
      "execution_count": 1,
      "outputs": [
        {
          "output_type": "stream",
          "text": [
            "--2020-04-21 22:30:49--  https://storage.googleapis.com/mledu-datasets/cats_and_dogs_filtered.zip\n",
            "Resolving storage.googleapis.com (storage.googleapis.com)... 66.102.1.128, 2a00:1450:400c:c00::80\n",
            "Connecting to storage.googleapis.com (storage.googleapis.com)|66.102.1.128|:443... connected.\n",
            "HTTP request sent, awaiting response... 200 OK\n",
            "Length: 68606236 (65M) [application/zip]\n",
            "Saving to: ‘/tmp/cats_and_dogs_filtered.zip’\n",
            "\n",
            "/tmp/cats_and_dogs_ 100%[===================>]  65.43M  92.9MB/s    in 0.7s    \n",
            "\n",
            "2020-04-21 22:30:51 (92.9 MB/s) - ‘/tmp/cats_and_dogs_filtered.zip’ saved [68606236/68606236]\n",
            "\n"
          ],
          "name": "stdout"
        }
      ]
    },
    {
      "cell_type": "code",
      "metadata": {
        "id": "WvoHtdA-K6Rw",
        "colab_type": "code",
        "colab": {}
      },
      "source": [
        "import os\n",
        "import zipfile\n",
        "\n",
        "local_zip = '/tmp/cats_and_dogs_filtered.zip'\n",
        "zip_ref = zipfile.ZipFile(local_zip, 'r')\n",
        "zip_ref.extractall('/tmp')\n",
        "zip_ref.close()"
      ],
      "execution_count": 0,
      "outputs": []
    },
    {
      "cell_type": "markdown",
      "metadata": {
        "id": "shZiOBnJMyy_",
        "colab_type": "text"
      },
      "source": [
        "Note that the data provided by Google does not have a test set."
      ]
    },
    {
      "cell_type": "code",
      "metadata": {
        "id": "dL8ikM89LlsH",
        "colab_type": "code",
        "colab": {}
      },
      "source": [
        "base_dir = '/tmp/cats_and_dogs_filtered'\n",
        "train_dir = os.path.join(base_dir, 'train')\n",
        "validation_dir = os.path.join(base_dir, 'validation')\n",
        "\n",
        "# Directory with our training cat pictures\n",
        "train_cats_dir = os.path.join(train_dir, 'cats')\n",
        "\n",
        "# Directory with our training dog pictures\n",
        "train_dogs_dir = os.path.join(train_dir, 'dogs')\n",
        "\n",
        "# Directory with our validation cat pictures\n",
        "validation_cats_dir = os.path.join(validation_dir, 'cats')\n",
        "\n",
        "# Directory with our validation dog pictures\n",
        "validation_dogs_dir = os.path.join(validation_dir, 'dogs')"
      ],
      "execution_count": 0,
      "outputs": []
    },
    {
      "cell_type": "markdown",
      "metadata": {
        "id": "inyP8bcdXnn-",
        "colab_type": "text"
      },
      "source": [
        "## Build network with DenseNet convolution base and custom densely connected layers\n",
        "\n"
      ]
    },
    {
      "cell_type": "markdown",
      "metadata": {
        "id": "kQ48W5T9rHWu",
        "colab_type": "text"
      },
      "source": [
        "### Load the convolutional base"
      ]
    },
    {
      "cell_type": "code",
      "metadata": {
        "id": "Y0FgtANCXm_H",
        "colab_type": "code",
        "colab": {
          "base_uri": "https://localhost:8080/",
          "height": 89
        },
        "outputId": "ebc67f41-9196-4f4e-a4ca-a435f40eebaa"
      },
      "source": [
        "from keras.applications import densenet\n",
        "\n",
        "conv_base = densenet.DenseNet121(input_shape=(224, 224, 3),\n",
        "                                 weights='imagenet', \n",
        "                                 include_top=False)"
      ],
      "execution_count": 4,
      "outputs": [
        {
          "output_type": "stream",
          "text": [
            "Using TensorFlow backend.\n"
          ],
          "name": "stderr"
        },
        {
          "output_type": "stream",
          "text": [
            "Downloading data from https://github.com/keras-team/keras-applications/releases/download/densenet/densenet121_weights_tf_dim_ordering_tf_kernels_notop.h5\n",
            "29089792/29084464 [==============================] - 2s 0us/step\n"
          ],
          "name": "stdout"
        }
      ]
    },
    {
      "cell_type": "markdown",
      "metadata": {
        "id": "D6OBHOO9q1ou",
        "colab_type": "text"
      },
      "source": [
        "### Freeze the convolutional base"
      ]
    },
    {
      "cell_type": "code",
      "metadata": {
        "id": "UleRo4Dpq6Ld",
        "colab_type": "code",
        "colab": {}
      },
      "source": [
        "conv_base.trainable = False"
      ],
      "execution_count": 0,
      "outputs": []
    },
    {
      "cell_type": "markdown",
      "metadata": {
        "id": "Qfx6PqhPrb7Q",
        "colab_type": "text"
      },
      "source": [
        "### Concatenate the convolutional base and densely connected layers"
      ]
    },
    {
      "cell_type": "code",
      "metadata": {
        "id": "qUpmocDAO3xm",
        "colab_type": "code",
        "colab": {}
      },
      "source": [
        "from keras import layers\n",
        "from keras import models\n",
        "from keras import optimizers\n",
        "\n",
        "model = models.Sequential()\n",
        "model.add(conv_base)\n",
        "model.add(layers.Flatten())\n",
        "model.add(layers.Dense(256, activation='relu'))\n",
        "model.add(layers.Dropout(0.1))\n",
        "model.add(layers.Dense(1, activation='sigmoid'))"
      ],
      "execution_count": 0,
      "outputs": []
    },
    {
      "cell_type": "code",
      "metadata": {
        "id": "MVfLG3yejONV",
        "colab_type": "code",
        "outputId": "f74bd418-4914-4b21-af21-645c72b213b4",
        "colab": {
          "base_uri": "https://localhost:8080/",
          "height": 1000
        }
      },
      "source": [
        "for lay in conv_base.layers:\n",
        "  print(lay.name)"
      ],
      "execution_count": 7,
      "outputs": [
        {
          "output_type": "stream",
          "text": [
            "input_1\n",
            "zero_padding2d_1\n",
            "conv1/conv\n",
            "conv1/bn\n",
            "conv1/relu\n",
            "zero_padding2d_2\n",
            "pool1\n",
            "conv2_block1_0_bn\n",
            "conv2_block1_0_relu\n",
            "conv2_block1_1_conv\n",
            "conv2_block1_1_bn\n",
            "conv2_block1_1_relu\n",
            "conv2_block1_2_conv\n",
            "conv2_block1_concat\n",
            "conv2_block2_0_bn\n",
            "conv2_block2_0_relu\n",
            "conv2_block2_1_conv\n",
            "conv2_block2_1_bn\n",
            "conv2_block2_1_relu\n",
            "conv2_block2_2_conv\n",
            "conv2_block2_concat\n",
            "conv2_block3_0_bn\n",
            "conv2_block3_0_relu\n",
            "conv2_block3_1_conv\n",
            "conv2_block3_1_bn\n",
            "conv2_block3_1_relu\n",
            "conv2_block3_2_conv\n",
            "conv2_block3_concat\n",
            "conv2_block4_0_bn\n",
            "conv2_block4_0_relu\n",
            "conv2_block4_1_conv\n",
            "conv2_block4_1_bn\n",
            "conv2_block4_1_relu\n",
            "conv2_block4_2_conv\n",
            "conv2_block4_concat\n",
            "conv2_block5_0_bn\n",
            "conv2_block5_0_relu\n",
            "conv2_block5_1_conv\n",
            "conv2_block5_1_bn\n",
            "conv2_block5_1_relu\n",
            "conv2_block5_2_conv\n",
            "conv2_block5_concat\n",
            "conv2_block6_0_bn\n",
            "conv2_block6_0_relu\n",
            "conv2_block6_1_conv\n",
            "conv2_block6_1_bn\n",
            "conv2_block6_1_relu\n",
            "conv2_block6_2_conv\n",
            "conv2_block6_concat\n",
            "pool2_bn\n",
            "pool2_relu\n",
            "pool2_conv\n",
            "pool2_pool\n",
            "conv3_block1_0_bn\n",
            "conv3_block1_0_relu\n",
            "conv3_block1_1_conv\n",
            "conv3_block1_1_bn\n",
            "conv3_block1_1_relu\n",
            "conv3_block1_2_conv\n",
            "conv3_block1_concat\n",
            "conv3_block2_0_bn\n",
            "conv3_block2_0_relu\n",
            "conv3_block2_1_conv\n",
            "conv3_block2_1_bn\n",
            "conv3_block2_1_relu\n",
            "conv3_block2_2_conv\n",
            "conv3_block2_concat\n",
            "conv3_block3_0_bn\n",
            "conv3_block3_0_relu\n",
            "conv3_block3_1_conv\n",
            "conv3_block3_1_bn\n",
            "conv3_block3_1_relu\n",
            "conv3_block3_2_conv\n",
            "conv3_block3_concat\n",
            "conv3_block4_0_bn\n",
            "conv3_block4_0_relu\n",
            "conv3_block4_1_conv\n",
            "conv3_block4_1_bn\n",
            "conv3_block4_1_relu\n",
            "conv3_block4_2_conv\n",
            "conv3_block4_concat\n",
            "conv3_block5_0_bn\n",
            "conv3_block5_0_relu\n",
            "conv3_block5_1_conv\n",
            "conv3_block5_1_bn\n",
            "conv3_block5_1_relu\n",
            "conv3_block5_2_conv\n",
            "conv3_block5_concat\n",
            "conv3_block6_0_bn\n",
            "conv3_block6_0_relu\n",
            "conv3_block6_1_conv\n",
            "conv3_block6_1_bn\n",
            "conv3_block6_1_relu\n",
            "conv3_block6_2_conv\n",
            "conv3_block6_concat\n",
            "conv3_block7_0_bn\n",
            "conv3_block7_0_relu\n",
            "conv3_block7_1_conv\n",
            "conv3_block7_1_bn\n",
            "conv3_block7_1_relu\n",
            "conv3_block7_2_conv\n",
            "conv3_block7_concat\n",
            "conv3_block8_0_bn\n",
            "conv3_block8_0_relu\n",
            "conv3_block8_1_conv\n",
            "conv3_block8_1_bn\n",
            "conv3_block8_1_relu\n",
            "conv3_block8_2_conv\n",
            "conv3_block8_concat\n",
            "conv3_block9_0_bn\n",
            "conv3_block9_0_relu\n",
            "conv3_block9_1_conv\n",
            "conv3_block9_1_bn\n",
            "conv3_block9_1_relu\n",
            "conv3_block9_2_conv\n",
            "conv3_block9_concat\n",
            "conv3_block10_0_bn\n",
            "conv3_block10_0_relu\n",
            "conv3_block10_1_conv\n",
            "conv3_block10_1_bn\n",
            "conv3_block10_1_relu\n",
            "conv3_block10_2_conv\n",
            "conv3_block10_concat\n",
            "conv3_block11_0_bn\n",
            "conv3_block11_0_relu\n",
            "conv3_block11_1_conv\n",
            "conv3_block11_1_bn\n",
            "conv3_block11_1_relu\n",
            "conv3_block11_2_conv\n",
            "conv3_block11_concat\n",
            "conv3_block12_0_bn\n",
            "conv3_block12_0_relu\n",
            "conv3_block12_1_conv\n",
            "conv3_block12_1_bn\n",
            "conv3_block12_1_relu\n",
            "conv3_block12_2_conv\n",
            "conv3_block12_concat\n",
            "pool3_bn\n",
            "pool3_relu\n",
            "pool3_conv\n",
            "pool3_pool\n",
            "conv4_block1_0_bn\n",
            "conv4_block1_0_relu\n",
            "conv4_block1_1_conv\n",
            "conv4_block1_1_bn\n",
            "conv4_block1_1_relu\n",
            "conv4_block1_2_conv\n",
            "conv4_block1_concat\n",
            "conv4_block2_0_bn\n",
            "conv4_block2_0_relu\n",
            "conv4_block2_1_conv\n",
            "conv4_block2_1_bn\n",
            "conv4_block2_1_relu\n",
            "conv4_block2_2_conv\n",
            "conv4_block2_concat\n",
            "conv4_block3_0_bn\n",
            "conv4_block3_0_relu\n",
            "conv4_block3_1_conv\n",
            "conv4_block3_1_bn\n",
            "conv4_block3_1_relu\n",
            "conv4_block3_2_conv\n",
            "conv4_block3_concat\n",
            "conv4_block4_0_bn\n",
            "conv4_block4_0_relu\n",
            "conv4_block4_1_conv\n",
            "conv4_block4_1_bn\n",
            "conv4_block4_1_relu\n",
            "conv4_block4_2_conv\n",
            "conv4_block4_concat\n",
            "conv4_block5_0_bn\n",
            "conv4_block5_0_relu\n",
            "conv4_block5_1_conv\n",
            "conv4_block5_1_bn\n",
            "conv4_block5_1_relu\n",
            "conv4_block5_2_conv\n",
            "conv4_block5_concat\n",
            "conv4_block6_0_bn\n",
            "conv4_block6_0_relu\n",
            "conv4_block6_1_conv\n",
            "conv4_block6_1_bn\n",
            "conv4_block6_1_relu\n",
            "conv4_block6_2_conv\n",
            "conv4_block6_concat\n",
            "conv4_block7_0_bn\n",
            "conv4_block7_0_relu\n",
            "conv4_block7_1_conv\n",
            "conv4_block7_1_bn\n",
            "conv4_block7_1_relu\n",
            "conv4_block7_2_conv\n",
            "conv4_block7_concat\n",
            "conv4_block8_0_bn\n",
            "conv4_block8_0_relu\n",
            "conv4_block8_1_conv\n",
            "conv4_block8_1_bn\n",
            "conv4_block8_1_relu\n",
            "conv4_block8_2_conv\n",
            "conv4_block8_concat\n",
            "conv4_block9_0_bn\n",
            "conv4_block9_0_relu\n",
            "conv4_block9_1_conv\n",
            "conv4_block9_1_bn\n",
            "conv4_block9_1_relu\n",
            "conv4_block9_2_conv\n",
            "conv4_block9_concat\n",
            "conv4_block10_0_bn\n",
            "conv4_block10_0_relu\n",
            "conv4_block10_1_conv\n",
            "conv4_block10_1_bn\n",
            "conv4_block10_1_relu\n",
            "conv4_block10_2_conv\n",
            "conv4_block10_concat\n",
            "conv4_block11_0_bn\n",
            "conv4_block11_0_relu\n",
            "conv4_block11_1_conv\n",
            "conv4_block11_1_bn\n",
            "conv4_block11_1_relu\n",
            "conv4_block11_2_conv\n",
            "conv4_block11_concat\n",
            "conv4_block12_0_bn\n",
            "conv4_block12_0_relu\n",
            "conv4_block12_1_conv\n",
            "conv4_block12_1_bn\n",
            "conv4_block12_1_relu\n",
            "conv4_block12_2_conv\n",
            "conv4_block12_concat\n",
            "conv4_block13_0_bn\n",
            "conv4_block13_0_relu\n",
            "conv4_block13_1_conv\n",
            "conv4_block13_1_bn\n",
            "conv4_block13_1_relu\n",
            "conv4_block13_2_conv\n",
            "conv4_block13_concat\n",
            "conv4_block14_0_bn\n",
            "conv4_block14_0_relu\n",
            "conv4_block14_1_conv\n",
            "conv4_block14_1_bn\n",
            "conv4_block14_1_relu\n",
            "conv4_block14_2_conv\n",
            "conv4_block14_concat\n",
            "conv4_block15_0_bn\n",
            "conv4_block15_0_relu\n",
            "conv4_block15_1_conv\n",
            "conv4_block15_1_bn\n",
            "conv4_block15_1_relu\n",
            "conv4_block15_2_conv\n",
            "conv4_block15_concat\n",
            "conv4_block16_0_bn\n",
            "conv4_block16_0_relu\n",
            "conv4_block16_1_conv\n",
            "conv4_block16_1_bn\n",
            "conv4_block16_1_relu\n",
            "conv4_block16_2_conv\n",
            "conv4_block16_concat\n",
            "conv4_block17_0_bn\n",
            "conv4_block17_0_relu\n",
            "conv4_block17_1_conv\n",
            "conv4_block17_1_bn\n",
            "conv4_block17_1_relu\n",
            "conv4_block17_2_conv\n",
            "conv4_block17_concat\n",
            "conv4_block18_0_bn\n",
            "conv4_block18_0_relu\n",
            "conv4_block18_1_conv\n",
            "conv4_block18_1_bn\n",
            "conv4_block18_1_relu\n",
            "conv4_block18_2_conv\n",
            "conv4_block18_concat\n",
            "conv4_block19_0_bn\n",
            "conv4_block19_0_relu\n",
            "conv4_block19_1_conv\n",
            "conv4_block19_1_bn\n",
            "conv4_block19_1_relu\n",
            "conv4_block19_2_conv\n",
            "conv4_block19_concat\n",
            "conv4_block20_0_bn\n",
            "conv4_block20_0_relu\n",
            "conv4_block20_1_conv\n",
            "conv4_block20_1_bn\n",
            "conv4_block20_1_relu\n",
            "conv4_block20_2_conv\n",
            "conv4_block20_concat\n",
            "conv4_block21_0_bn\n",
            "conv4_block21_0_relu\n",
            "conv4_block21_1_conv\n",
            "conv4_block21_1_bn\n",
            "conv4_block21_1_relu\n",
            "conv4_block21_2_conv\n",
            "conv4_block21_concat\n",
            "conv4_block22_0_bn\n",
            "conv4_block22_0_relu\n",
            "conv4_block22_1_conv\n",
            "conv4_block22_1_bn\n",
            "conv4_block22_1_relu\n",
            "conv4_block22_2_conv\n",
            "conv4_block22_concat\n",
            "conv4_block23_0_bn\n",
            "conv4_block23_0_relu\n",
            "conv4_block23_1_conv\n",
            "conv4_block23_1_bn\n",
            "conv4_block23_1_relu\n",
            "conv4_block23_2_conv\n",
            "conv4_block23_concat\n",
            "conv4_block24_0_bn\n",
            "conv4_block24_0_relu\n",
            "conv4_block24_1_conv\n",
            "conv4_block24_1_bn\n",
            "conv4_block24_1_relu\n",
            "conv4_block24_2_conv\n",
            "conv4_block24_concat\n",
            "pool4_bn\n",
            "pool4_relu\n",
            "pool4_conv\n",
            "pool4_pool\n",
            "conv5_block1_0_bn\n",
            "conv5_block1_0_relu\n",
            "conv5_block1_1_conv\n",
            "conv5_block1_1_bn\n",
            "conv5_block1_1_relu\n",
            "conv5_block1_2_conv\n",
            "conv5_block1_concat\n",
            "conv5_block2_0_bn\n",
            "conv5_block2_0_relu\n",
            "conv5_block2_1_conv\n",
            "conv5_block2_1_bn\n",
            "conv5_block2_1_relu\n",
            "conv5_block2_2_conv\n",
            "conv5_block2_concat\n",
            "conv5_block3_0_bn\n",
            "conv5_block3_0_relu\n",
            "conv5_block3_1_conv\n",
            "conv5_block3_1_bn\n",
            "conv5_block3_1_relu\n",
            "conv5_block3_2_conv\n",
            "conv5_block3_concat\n",
            "conv5_block4_0_bn\n",
            "conv5_block4_0_relu\n",
            "conv5_block4_1_conv\n",
            "conv5_block4_1_bn\n",
            "conv5_block4_1_relu\n",
            "conv5_block4_2_conv\n",
            "conv5_block4_concat\n",
            "conv5_block5_0_bn\n",
            "conv5_block5_0_relu\n",
            "conv5_block5_1_conv\n",
            "conv5_block5_1_bn\n",
            "conv5_block5_1_relu\n",
            "conv5_block5_2_conv\n",
            "conv5_block5_concat\n",
            "conv5_block6_0_bn\n",
            "conv5_block6_0_relu\n",
            "conv5_block6_1_conv\n",
            "conv5_block6_1_bn\n",
            "conv5_block6_1_relu\n",
            "conv5_block6_2_conv\n",
            "conv5_block6_concat\n",
            "conv5_block7_0_bn\n",
            "conv5_block7_0_relu\n",
            "conv5_block7_1_conv\n",
            "conv5_block7_1_bn\n",
            "conv5_block7_1_relu\n",
            "conv5_block7_2_conv\n",
            "conv5_block7_concat\n",
            "conv5_block8_0_bn\n",
            "conv5_block8_0_relu\n",
            "conv5_block8_1_conv\n",
            "conv5_block8_1_bn\n",
            "conv5_block8_1_relu\n",
            "conv5_block8_2_conv\n",
            "conv5_block8_concat\n",
            "conv5_block9_0_bn\n",
            "conv5_block9_0_relu\n",
            "conv5_block9_1_conv\n",
            "conv5_block9_1_bn\n",
            "conv5_block9_1_relu\n",
            "conv5_block9_2_conv\n",
            "conv5_block9_concat\n",
            "conv5_block10_0_bn\n",
            "conv5_block10_0_relu\n",
            "conv5_block10_1_conv\n",
            "conv5_block10_1_bn\n",
            "conv5_block10_1_relu\n",
            "conv5_block10_2_conv\n",
            "conv5_block10_concat\n",
            "conv5_block11_0_bn\n",
            "conv5_block11_0_relu\n",
            "conv5_block11_1_conv\n",
            "conv5_block11_1_bn\n",
            "conv5_block11_1_relu\n",
            "conv5_block11_2_conv\n",
            "conv5_block11_concat\n",
            "conv5_block12_0_bn\n",
            "conv5_block12_0_relu\n",
            "conv5_block12_1_conv\n",
            "conv5_block12_1_bn\n",
            "conv5_block12_1_relu\n",
            "conv5_block12_2_conv\n",
            "conv5_block12_concat\n",
            "conv5_block13_0_bn\n",
            "conv5_block13_0_relu\n",
            "conv5_block13_1_conv\n",
            "conv5_block13_1_bn\n",
            "conv5_block13_1_relu\n",
            "conv5_block13_2_conv\n",
            "conv5_block13_concat\n",
            "conv5_block14_0_bn\n",
            "conv5_block14_0_relu\n",
            "conv5_block14_1_conv\n",
            "conv5_block14_1_bn\n",
            "conv5_block14_1_relu\n",
            "conv5_block14_2_conv\n",
            "conv5_block14_concat\n",
            "conv5_block15_0_bn\n",
            "conv5_block15_0_relu\n",
            "conv5_block15_1_conv\n",
            "conv5_block15_1_bn\n",
            "conv5_block15_1_relu\n",
            "conv5_block15_2_conv\n",
            "conv5_block15_concat\n",
            "conv5_block16_0_bn\n",
            "conv5_block16_0_relu\n",
            "conv5_block16_1_conv\n",
            "conv5_block16_1_bn\n",
            "conv5_block16_1_relu\n",
            "conv5_block16_2_conv\n",
            "conv5_block16_concat\n",
            "bn\n",
            "relu\n"
          ],
          "name": "stdout"
        }
      ]
    },
    {
      "cell_type": "code",
      "metadata": {
        "id": "Fh6gZSeAjF7c",
        "colab_type": "code",
        "outputId": "4d095f35-643f-4ad5-8b20-14d2175cf388",
        "colab": {
          "base_uri": "https://localhost:8080/",
          "height": 328
        }
      },
      "source": [
        "model.summary()"
      ],
      "execution_count": 8,
      "outputs": [
        {
          "output_type": "stream",
          "text": [
            "Model: \"sequential_1\"\n",
            "_________________________________________________________________\n",
            "Layer (type)                 Output Shape              Param #   \n",
            "=================================================================\n",
            "densenet121 (Model)          (None, 7, 7, 1024)        7037504   \n",
            "_________________________________________________________________\n",
            "flatten_1 (Flatten)          (None, 50176)             0         \n",
            "_________________________________________________________________\n",
            "dense_1 (Dense)              (None, 256)               12845312  \n",
            "_________________________________________________________________\n",
            "dropout_1 (Dropout)          (None, 256)               0         \n",
            "_________________________________________________________________\n",
            "dense_2 (Dense)              (None, 1)                 257       \n",
            "=================================================================\n",
            "Total params: 19,883,073\n",
            "Trainable params: 12,845,569\n",
            "Non-trainable params: 7,037,504\n",
            "_________________________________________________________________\n"
          ],
          "name": "stdout"
        }
      ]
    },
    {
      "cell_type": "markdown",
      "metadata": {
        "id": "eZjBiddhi5Qj",
        "colab_type": "text"
      },
      "source": [
        "## Train the model end to end with frozen convolutional base"
      ]
    },
    {
      "cell_type": "code",
      "metadata": {
        "id": "tfAQlC2Oi41L",
        "colab_type": "code",
        "outputId": "c858cddc-b0cb-4986-a96b-3ce579317b09",
        "colab": {
          "base_uri": "https://localhost:8080/",
          "height": 1000
        }
      },
      "source": [
        "from keras.preprocessing.image import ImageDataGenerator\n",
        "from keras import optimizers\n",
        "\n",
        "# data augmentation\n",
        "\n",
        "train_datagen = ImageDataGenerator(\n",
        "    rescale=1./255, \n",
        "    rotation_range=40,\n",
        "    width_shift_range=0.2,\n",
        "    height_shift_range=0.2,\n",
        "    shear_range=0.2,\n",
        "    zoom_range=0.2,\n",
        "    horizontal_flip=True,\n",
        "    fill_mode='nearest'\n",
        ")\n",
        "\n",
        "train_generator = train_datagen.flow_from_directory(\n",
        "    train_dir,\n",
        "    target_size=(224, 224),\n",
        "    batch_size=20,\n",
        "    class_mode='binary')\n",
        "\n",
        "validation_datagen = ImageDataGenerator(rescale=1./255)\n",
        "\n",
        "validation_generator = validation_datagen.flow_from_directory(\n",
        "    validation_dir,\n",
        "    target_size=(224, 224),\n",
        "    batch_size=20,\n",
        "    class_mode='binary')\n",
        "\n",
        "# compile model\n",
        "\n",
        "model.compile(\n",
        "    loss='binary_crossentropy', \n",
        "    optimizer=optimizers.RMSprop(lr=2e-5), \n",
        "    metrics=['acc'])\n",
        "\n",
        "# train\n",
        "\n",
        "history = model.fit_generator(\n",
        "    train_generator,\n",
        "    steps_per_epoch=100,\n",
        "    epochs=30,\n",
        "    validation_data=validation_generator,\n",
        "    validation_steps=50\n",
        ")"
      ],
      "execution_count": 9,
      "outputs": [
        {
          "output_type": "stream",
          "text": [
            "Found 2000 images belonging to 2 classes.\n",
            "Found 1000 images belonging to 2 classes.\n",
            "Epoch 1/30\n",
            "100/100 [==============================] - 47s 474ms/step - loss: 0.3619 - acc: 0.8485 - val_loss: 0.0088 - val_acc: 0.9570\n",
            "Epoch 2/30\n",
            "100/100 [==============================] - 31s 311ms/step - loss: 0.1912 - acc: 0.9275 - val_loss: 0.0199 - val_acc: 0.9770\n",
            "Epoch 3/30\n",
            "100/100 [==============================] - 32s 317ms/step - loss: 0.1350 - acc: 0.9480 - val_loss: 0.0403 - val_acc: 0.9250\n",
            "Epoch 4/30\n",
            "100/100 [==============================] - 31s 314ms/step - loss: 0.1447 - acc: 0.9415 - val_loss: 0.1848 - val_acc: 0.9110\n",
            "Epoch 5/30\n",
            "100/100 [==============================] - 31s 311ms/step - loss: 0.1200 - acc: 0.9580 - val_loss: 0.2249 - val_acc: 0.9510\n",
            "Epoch 6/30\n",
            "100/100 [==============================] - 31s 313ms/step - loss: 0.1223 - acc: 0.9540 - val_loss: 0.0281 - val_acc: 0.9670\n",
            "Epoch 7/30\n",
            "100/100 [==============================] - 32s 317ms/step - loss: 0.1106 - acc: 0.9555 - val_loss: 0.3840 - val_acc: 0.9670\n",
            "Epoch 8/30\n",
            "100/100 [==============================] - 31s 312ms/step - loss: 0.1280 - acc: 0.9505 - val_loss: 0.0014 - val_acc: 0.9390\n",
            "Epoch 9/30\n",
            "100/100 [==============================] - 31s 308ms/step - loss: 0.0993 - acc: 0.9660 - val_loss: 3.5640e-05 - val_acc: 0.9600\n",
            "Epoch 10/30\n",
            "100/100 [==============================] - 31s 308ms/step - loss: 0.1109 - acc: 0.9610 - val_loss: 0.0025 - val_acc: 0.9660\n",
            "Epoch 11/30\n",
            "100/100 [==============================] - 31s 309ms/step - loss: 0.0909 - acc: 0.9670 - val_loss: 0.1126 - val_acc: 0.9040\n",
            "Epoch 12/30\n",
            "100/100 [==============================] - 31s 309ms/step - loss: 0.0957 - acc: 0.9655 - val_loss: 4.4367e-04 - val_acc: 0.9100\n",
            "Epoch 13/30\n",
            "100/100 [==============================] - 30s 305ms/step - loss: 0.0941 - acc: 0.9645 - val_loss: 0.6258 - val_acc: 0.9060\n",
            "Epoch 14/30\n",
            "100/100 [==============================] - 31s 308ms/step - loss: 0.1042 - acc: 0.9635 - val_loss: 0.0796 - val_acc: 0.9780\n",
            "Epoch 15/30\n",
            "100/100 [==============================] - 30s 303ms/step - loss: 0.0862 - acc: 0.9695 - val_loss: 0.0011 - val_acc: 0.9690\n",
            "Epoch 16/30\n",
            "100/100 [==============================] - 30s 304ms/step - loss: 0.1016 - acc: 0.9665 - val_loss: 0.1118 - val_acc: 0.9450\n",
            "Epoch 17/30\n",
            "100/100 [==============================] - 30s 301ms/step - loss: 0.0804 - acc: 0.9735 - val_loss: 0.0742 - val_acc: 0.9260\n",
            "Epoch 18/30\n",
            "100/100 [==============================] - 30s 303ms/step - loss: 0.0822 - acc: 0.9730 - val_loss: 0.2915 - val_acc: 0.9720\n",
            "Epoch 19/30\n",
            "100/100 [==============================] - 31s 305ms/step - loss: 0.0789 - acc: 0.9720 - val_loss: 0.3695 - val_acc: 0.9130\n",
            "Epoch 20/30\n",
            "100/100 [==============================] - 30s 304ms/step - loss: 0.0832 - acc: 0.9715 - val_loss: 0.3364 - val_acc: 0.9170\n",
            "Epoch 21/30\n",
            "100/100 [==============================] - 30s 301ms/step - loss: 0.0730 - acc: 0.9770 - val_loss: 0.1795 - val_acc: 0.8730\n",
            "Epoch 22/30\n",
            "100/100 [==============================] - 31s 307ms/step - loss: 0.0868 - acc: 0.9735 - val_loss: 0.4892 - val_acc: 0.9460\n",
            "Epoch 23/30\n",
            "100/100 [==============================] - 31s 307ms/step - loss: 0.1044 - acc: 0.9645 - val_loss: 1.8201e-04 - val_acc: 0.9640\n",
            "Epoch 24/30\n",
            "100/100 [==============================] - 31s 307ms/step - loss: 0.0708 - acc: 0.9730 - val_loss: 0.0040 - val_acc: 0.9700\n",
            "Epoch 25/30\n",
            "100/100 [==============================] - 30s 300ms/step - loss: 0.0842 - acc: 0.9695 - val_loss: 0.2177 - val_acc: 0.9430\n",
            "Epoch 26/30\n",
            "100/100 [==============================] - 31s 306ms/step - loss: 0.0912 - acc: 0.9650 - val_loss: 0.0908 - val_acc: 0.9560\n",
            "Epoch 27/30\n",
            "100/100 [==============================] - 30s 298ms/step - loss: 0.0744 - acc: 0.9745 - val_loss: 0.3939 - val_acc: 0.9640\n",
            "Epoch 28/30\n",
            "100/100 [==============================] - 31s 305ms/step - loss: 0.0794 - acc: 0.9685 - val_loss: 0.0089 - val_acc: 0.9530\n",
            "Epoch 29/30\n",
            "100/100 [==============================] - 30s 304ms/step - loss: 0.0771 - acc: 0.9725 - val_loss: 0.0010 - val_acc: 0.9750\n",
            "Epoch 30/30\n",
            "100/100 [==============================] - 30s 303ms/step - loss: 0.0654 - acc: 0.9790 - val_loss: 0.1635 - val_acc: 0.9360\n"
          ],
          "name": "stdout"
        }
      ]
    },
    {
      "cell_type": "markdown",
      "metadata": {
        "id": "xqRc_vHKc92U",
        "colab_type": "text"
      },
      "source": [
        "## Display curves of loss and accuracy during training"
      ]
    },
    {
      "cell_type": "code",
      "metadata": {
        "id": "ybWwdzz9bwuQ",
        "colab_type": "code",
        "outputId": "1ecc12b9-446f-4cc8-e56f-c4a1a1ee1164",
        "colab": {
          "base_uri": "https://localhost:8080/",
          "height": 545
        }
      },
      "source": [
        "%matplotlib inline\n",
        "\n",
        "import matplotlib.pyplot as plt\n",
        "\n",
        "acc = history.history['acc']\n",
        "val_acc = history.history['val_acc']\n",
        "\n",
        "loss = history.history['loss']\n",
        "val_loss = history.history['val_loss']\n",
        "\n",
        "epochs = range(1, len(acc) + 1)\n",
        "\n",
        "# training and validation accuracy\n",
        "\n",
        "plt.plot(epochs, acc, 'bo', label='training acc')\n",
        "plt.plot(epochs, val_acc, 'b', label='validation acc')\n",
        "plt.title('training and validation accuracy')\n",
        "plt.legend()\n",
        "\n",
        "plt.figure()\n",
        "\n",
        "# training and validation loss\n",
        "\n",
        "plt.plot(epochs, loss, 'bo', label='training loss')\n",
        "plt.plot(epochs, val_loss, 'b', label='validation loss')\n",
        "plt.title('training and validation loss')\n",
        "plt.legend()\n",
        "\n",
        "plt.show()"
      ],
      "execution_count": 10,
      "outputs": [
        {
          "output_type": "display_data",
          "data": {
            "image/png": "[encoded data removed]",
            "text/plain": [
              "<Figure size 432x288 with 1 Axes>"
            ]
          },
          "metadata": {
            "tags": [],
            "needs_background": "light"
          }
        },
        {
          "output_type": "display_data",
          "data": {
            "image/png": "[encoded data removed]",
            "text/plain": [
              "<Figure size 432x288 with 1 Axes>"
            ]
          },
          "metadata": {
            "tags": [],
            "needs_background": "light"
          }
        }
      ]
    },
    {
      "cell_type": "markdown",
      "metadata": {
        "id": "lOWsxpey8lN0",
        "colab_type": "text"
      },
      "source": [
        "## Fine-tuning"
      ]
    },
    {
      "cell_type": "code",
      "metadata": {
        "id": "PwkVMx8N8qMw",
        "colab_type": "code",
        "colab": {}
      },
      "source": [
        "conv_base.trainable = True\n",
        "\n",
        "set_trainable = False\n",
        "for layer in conv_base.layers:\n",
        "  if layer.name == 'conv5_block1_0_bn':\n",
        "    set_trainable = True\n",
        "  if set_trainable:\n",
        "    layer.trainable = True\n",
        "  else:\n",
        "    layer.trainable = False"
      ],
      "execution_count": 0,
      "outputs": []
    },
    {
      "cell_type": "code",
      "metadata": {
        "id": "DyN-J7rs9cvo",
        "colab_type": "code",
        "outputId": "656fce3f-3591-44e4-c7a1-085085f47435",
        "colab": {
          "base_uri": "https://localhost:8080/",
          "height": 1000
        }
      },
      "source": [
        "# compile model\n",
        "\n",
        "model.compile(\n",
        "    loss='binary_crossentropy',\n",
        "    #\n",
        "    # choose a smaller learning rate\n",
        "    #\n",
        "    optimizer=optimizers.RMSprop(lr=1e-5), \n",
        "    metrics=['acc'])\n",
        "\n",
        "# train\n",
        "\n",
        "history = model.fit_generator(\n",
        "    train_generator,\n",
        "    steps_per_epoch=100,\n",
        "    epochs=50,\n",
        "    validation_data=validation_generator,\n",
        "    validation_steps=50)"
      ],
      "execution_count": 17,
      "outputs": [
        {
          "output_type": "stream",
          "text": [
            "Epoch 1/50\n",
            "100/100 [==============================] - 50s 499ms/step - loss: 0.0167 - acc: 0.9935 - val_loss: 1.1664e-08 - val_acc: 0.9800\n",
            "Epoch 2/50\n",
            "100/100 [==============================] - 32s 321ms/step - loss: 0.0115 - acc: 0.9965 - val_loss: 3.6751e-04 - val_acc: 0.9870\n",
            "Epoch 3/50\n",
            "100/100 [==============================] - 33s 328ms/step - loss: 0.0195 - acc: 0.9945 - val_loss: 9.0908e-04 - val_acc: 0.9870\n",
            "Epoch 4/50\n",
            "100/100 [==============================] - 33s 330ms/step - loss: 0.0150 - acc: 0.9955 - val_loss: 0.2459 - val_acc: 0.9870\n",
            "Epoch 5/50\n",
            "100/100 [==============================] - 33s 327ms/step - loss: 0.0214 - acc: 0.9930 - val_loss: 1.8739e-04 - val_acc: 0.9880\n",
            "Epoch 6/50\n",
            "100/100 [==============================] - 33s 325ms/step - loss: 0.0126 - acc: 0.9955 - val_loss: 2.8080e-07 - val_acc: 0.9850\n",
            "Epoch 7/50\n",
            "100/100 [==============================] - 33s 331ms/step - loss: 0.0151 - acc: 0.9950 - val_loss: 1.1747e-05 - val_acc: 0.9860\n",
            "Epoch 8/50\n",
            "100/100 [==============================] - 32s 322ms/step - loss: 0.0164 - acc: 0.9950 - val_loss: 3.3375e-06 - val_acc: 0.9870\n",
            "Epoch 9/50\n",
            "100/100 [==============================] - 33s 327ms/step - loss: 0.0058 - acc: 0.9975 - val_loss: 0.0220 - val_acc: 0.9860\n",
            "Epoch 10/50\n",
            "100/100 [==============================] - 33s 327ms/step - loss: 0.0068 - acc: 0.9975 - val_loss: 0.0042 - val_acc: 0.9860\n",
            "Epoch 11/50\n",
            "100/100 [==============================] - 33s 330ms/step - loss: 0.0092 - acc: 0.9970 - val_loss: 0.2033 - val_acc: 0.9870\n",
            "Epoch 12/50\n",
            "100/100 [==============================] - 33s 327ms/step - loss: 0.0118 - acc: 0.9955 - val_loss: 2.5434e-06 - val_acc: 0.9840\n",
            "Epoch 13/50\n",
            "100/100 [==============================] - 33s 325ms/step - loss: 0.0069 - acc: 0.9975 - val_loss: 0.0079 - val_acc: 0.9850\n",
            "Epoch 14/50\n",
            "100/100 [==============================] - 33s 325ms/step - loss: 0.0160 - acc: 0.9950 - val_loss: 0.0117 - val_acc: 0.9860\n",
            "Epoch 15/50\n",
            "100/100 [==============================] - 33s 333ms/step - loss: 0.0065 - acc: 0.9970 - val_loss: 1.9448e-05 - val_acc: 0.9880\n",
            "Epoch 16/50\n",
            "100/100 [==============================] - 33s 329ms/step - loss: 0.0146 - acc: 0.9945 - val_loss: 0.0178 - val_acc: 0.9880\n",
            "Epoch 17/50\n",
            "100/100 [==============================] - 33s 329ms/step - loss: 0.0179 - acc: 0.9945 - val_loss: 0.9063 - val_acc: 0.9850\n",
            "Epoch 18/50\n",
            "100/100 [==============================] - 33s 333ms/step - loss: 0.0231 - acc: 0.9935 - val_loss: 1.9796e-04 - val_acc: 0.9850\n",
            "Epoch 19/50\n",
            "100/100 [==============================] - 33s 329ms/step - loss: 0.0113 - acc: 0.9950 - val_loss: 6.1938e-07 - val_acc: 0.9840\n",
            "Epoch 20/50\n",
            "100/100 [==============================] - 33s 331ms/step - loss: 0.0083 - acc: 0.9970 - val_loss: 8.6630e-05 - val_acc: 0.9850\n",
            "Epoch 21/50\n",
            "100/100 [==============================] - 33s 332ms/step - loss: 0.0098 - acc: 0.9960 - val_loss: 0.0719 - val_acc: 0.9860\n",
            "Epoch 22/50\n",
            "100/100 [==============================] - 33s 331ms/step - loss: 0.0119 - acc: 0.9965 - val_loss: 7.9674e-04 - val_acc: 0.9850\n",
            "Epoch 23/50\n",
            "100/100 [==============================] - 33s 332ms/step - loss: 0.0189 - acc: 0.9935 - val_loss: 1.9202e-06 - val_acc: 0.9870\n",
            "Epoch 24/50\n",
            "100/100 [==============================] - 33s 334ms/step - loss: 0.0025 - acc: 0.9985 - val_loss: 0.4699 - val_acc: 0.9870\n",
            "Epoch 25/50\n",
            "100/100 [==============================] - 33s 330ms/step - loss: 0.0104 - acc: 0.9955 - val_loss: 2.1476e-05 - val_acc: 0.9860\n",
            "Epoch 26/50\n",
            "100/100 [==============================] - 33s 332ms/step - loss: 0.0140 - acc: 0.9940 - val_loss: 6.2608e-09 - val_acc: 0.9900\n",
            "Epoch 27/50\n",
            "100/100 [==============================] - 33s 331ms/step - loss: 0.0078 - acc: 0.9975 - val_loss: 1.1579e-05 - val_acc: 0.9890\n",
            "Epoch 28/50\n",
            "100/100 [==============================] - 33s 327ms/step - loss: 0.0192 - acc: 0.9970 - val_loss: 0.4418 - val_acc: 0.9880\n",
            "Epoch 29/50\n",
            "100/100 [==============================] - 33s 332ms/step - loss: 0.0174 - acc: 0.9950 - val_loss: 5.8125e-04 - val_acc: 0.9880\n",
            "Epoch 30/50\n",
            "100/100 [==============================] - 33s 332ms/step - loss: 0.0189 - acc: 0.9945 - val_loss: 0.0173 - val_acc: 0.9850\n",
            "Epoch 31/50\n",
            "100/100 [==============================] - 33s 329ms/step - loss: 0.0053 - acc: 0.9985 - val_loss: 0.0030 - val_acc: 0.9870\n",
            "Epoch 32/50\n",
            "100/100 [==============================] - 33s 326ms/step - loss: 0.0148 - acc: 0.9940 - val_loss: 0.0024 - val_acc: 0.9880\n",
            "Epoch 33/50\n",
            "100/100 [==============================] - 33s 329ms/step - loss: 0.0119 - acc: 0.9955 - val_loss: 0.0034 - val_acc: 0.9870\n",
            "Epoch 34/50\n",
            "100/100 [==============================] - 33s 332ms/step - loss: 0.0085 - acc: 0.9970 - val_loss: 0.2172 - val_acc: 0.9860\n",
            "Epoch 35/50\n",
            "100/100 [==============================] - 33s 332ms/step - loss: 0.0070 - acc: 0.9965 - val_loss: 6.1058e-07 - val_acc: 0.9860\n",
            "Epoch 36/50\n",
            "100/100 [==============================] - 35s 351ms/step - loss: 0.0061 - acc: 0.9975 - val_loss: 2.5440e-05 - val_acc: 0.9830\n",
            "Epoch 37/50\n",
            "100/100 [==============================] - 33s 329ms/step - loss: 0.0109 - acc: 0.9965 - val_loss: 7.1192e-04 - val_acc: 0.9850\n",
            "Epoch 38/50\n",
            "100/100 [==============================] - 33s 332ms/step - loss: 0.0080 - acc: 0.9965 - val_loss: 0.0407 - val_acc: 0.9850\n",
            "Epoch 39/50\n",
            "100/100 [==============================] - 34s 344ms/step - loss: 0.0110 - acc: 0.9965 - val_loss: 2.4700e-04 - val_acc: 0.9850\n",
            "Epoch 40/50\n",
            "100/100 [==============================] - 33s 332ms/step - loss: 0.0115 - acc: 0.9960 - val_loss: 1.4249e-07 - val_acc: 0.9860\n",
            "Epoch 41/50\n",
            "100/100 [==============================] - 33s 331ms/step - loss: 0.0096 - acc: 0.9980 - val_loss: 1.6800e-06 - val_acc: 0.9860\n",
            "Epoch 42/50\n",
            "100/100 [==============================] - 33s 331ms/step - loss: 0.0128 - acc: 0.9970 - val_loss: 0.0345 - val_acc: 0.9860\n",
            "Epoch 43/50\n",
            "100/100 [==============================] - 33s 331ms/step - loss: 0.0059 - acc: 0.9980 - val_loss: 0.2530 - val_acc: 0.9850\n",
            "Epoch 44/50\n",
            "100/100 [==============================] - 33s 331ms/step - loss: 0.0075 - acc: 0.9975 - val_loss: 1.7353e-07 - val_acc: 0.9840\n",
            "Epoch 45/50\n",
            "100/100 [==============================] - 33s 333ms/step - loss: 0.0062 - acc: 0.9970 - val_loss: 1.4769e-04 - val_acc: 0.9870\n",
            "Epoch 46/50\n",
            "100/100 [==============================] - 33s 334ms/step - loss: 0.0030 - acc: 0.9980 - val_loss: 0.9402 - val_acc: 0.9860\n",
            "Epoch 47/50\n",
            "100/100 [==============================] - 34s 337ms/step - loss: 0.0069 - acc: 0.9975 - val_loss: 1.1699e-04 - val_acc: 0.9850\n",
            "Epoch 48/50\n",
            "100/100 [==============================] - 34s 336ms/step - loss: 0.0049 - acc: 0.9980 - val_loss: 5.3020e-07 - val_acc: 0.9870\n",
            "Epoch 49/50\n",
            "100/100 [==============================] - 34s 335ms/step - loss: 0.0170 - acc: 0.9950 - val_loss: 0.0351 - val_acc: 0.9860\n",
            "Epoch 50/50\n",
            "100/100 [==============================] - 34s 337ms/step - loss: 0.0238 - acc: 0.9930 - val_loss: 4.4186e-06 - val_acc: 0.9870\n"
          ],
          "name": "stdout"
        }
      ]
    },
    {
      "cell_type": "markdown",
      "metadata": {
        "id": "eVBQgh5M-Rtz",
        "colab_type": "text"
      },
      "source": [
        "## Display learning curves during fine-tuning"
      ]
    },
    {
      "cell_type": "code",
      "metadata": {
        "id": "mbkIw7Ie-NP4",
        "colab_type": "code",
        "outputId": "5bc4069f-d767-425b-bbd8-cc502c7cae6e",
        "colab": {
          "base_uri": "https://localhost:8080/",
          "height": 545
        }
      },
      "source": [
        "%matplotlib inline\n",
        "\n",
        "import matplotlib.pyplot as plt\n",
        "\n",
        "acc = history.history['acc']\n",
        "val_acc = history.history['val_acc']\n",
        "\n",
        "loss = history.history['loss']\n",
        "val_loss = history.history['val_loss']\n",
        "\n",
        "epochs = range(1, len(acc) + 1)\n",
        "\n",
        "# training and validation accuracy\n",
        "\n",
        "plt.plot(epochs, acc, 'bo', label='training acc')\n",
        "plt.plot(epochs, val_acc, 'b', label='validation acc')\n",
        "plt.title('training and validation accuracy')\n",
        "plt.legend()\n",
        "\n",
        "plt.figure()\n",
        "\n",
        "# training and validation loss\n",
        "\n",
        "plt.plot(epochs, loss, 'bo', label='training loss')\n",
        "plt.plot(epochs, val_loss, 'b', label='validation loss')\n",
        "plt.title('training and validation loss')\n",
        "plt.legend()\n",
        "\n",
        "plt.show()"
      ],
      "execution_count": 18,
      "outputs": [
        {
          "output_type": "display_data",
          "data": {
            "image/png": "[encoded data removed]",
            "text/plain": [
              "<Figure size 432x288 with 1 Axes>"
            ]
          },
          "metadata": {
            "tags": [],
            "needs_background": "light"
          }
        },
        {
          "output_type": "display_data",
          "data": {
            "image/png": "[encoded data removed]",
            "text/plain": [
              "<Figure size 432x288 with 1 Axes>"
            ]
          },
          "metadata": {
            "tags": [],
            "needs_background": "light"
          }
        }
      ]
    },
    {
      "cell_type": "markdown",
      "metadata": {
        "id": "he3Nw6TOJwjx",
        "colab_type": "text"
      },
      "source": [
        "## Print out validation loss and accuracy"
      ]
    },
    {
      "cell_type": "code",
      "metadata": {
        "id": "SVQtrk7uJdhl",
        "colab_type": "code",
        "colab": {}
      },
      "source": [
        "val_loss, val_acc = model.evaluate_generator(validation_generator, steps=50)"
      ],
      "execution_count": 0,
      "outputs": []
    },
    {
      "cell_type": "code",
      "metadata": {
        "id": "HpdddLi1SUMe",
        "colab_type": "code",
        "outputId": "b5f7e604-6f02-4cb0-8174-86fec8aab5c4",
        "colab": {
          "base_uri": "https://localhost:8080/",
          "height": 52
        }
      },
      "source": [
        "print(\"Validation loss:\", val_loss)\n",
        "print(\"Validation accuracy:\", val_acc)"
      ],
      "execution_count": 15,
      "outputs": [
        {
          "output_type": "stream",
          "text": [
            "Validation loss: 0.00221827975474298\n",
            "Validation accuracy: 0.9879999756813049\n"
          ],
          "name": "stdout"
        }
      ]
    },
    {
      "cell_type": "markdown",
      "metadata": {
        "id": "7Ww756WToby8",
        "colab_type": "text"
      },
      "source": [
        "## Save the model"
      ]
    },
    {
      "cell_type": "code",
      "metadata": {
        "id": "0lTUpUdwobKW",
        "colab_type": "code",
        "colab": {}
      },
      "source": [
        "model_fname = 'cats_and_dogs_small_4.h5' \n",
        "model.save(model_fname)"
      ],
      "execution_count": 0,
      "outputs": []
    },
    {
      "cell_type": "code",
      "metadata": {
        "id": "VNEL4CCcS0Oj",
        "colab_type": "code",
        "colab": {}
      },
      "source": [
        ""
      ],
      "execution_count": 0,
      "outputs": []
    }
  ]
}