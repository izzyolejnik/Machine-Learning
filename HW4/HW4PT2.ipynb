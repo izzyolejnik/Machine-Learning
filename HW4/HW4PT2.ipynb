{
  "nbformat": 4,
  "nbformat_minor": 0,
  "metadata": {
    "colab": {
      "name": "HW4PT2.ipynb",
      "provenance": [],
      "authorship_tag": "ABX9TyMj5dRKOCvMuhE89NQlPa+t",
      "include_colab_link": true
    },
    "kernelspec": {
      "name": "python3",
      "display_name": "Python 3"
    }
  },
  "cells": [
    {
      "cell_type": "markdown",
      "metadata": {
        "id": "view-in-github",
        "colab_type": "text"
      },
      "source": [
        "<a href=\"https://colab.research.google.com/github/izzyolejnik/Machine-Learning/blob/master/HW4/HW4PT2.ipynb\" target=\"_parent\"><img src=\"https://colab.research.google.com/assets/colab-badge.svg\" alt=\"Open In Colab\"/></a>"
      ]
    },
    {
      "cell_type": "code",
      "metadata": {
        "id": "z_NLRM1VH7PA",
        "colab_type": "code",
        "outputId": "28b80f20-9d01-49b4-d97c-90dc0b48599e",
        "colab": {
          "base_uri": "https://localhost:8080/",
          "height": 69
        }
      },
      "source": [
        "import numpy as np\n",
        "\n",
        "input_mat = []\n",
        "s = []\n",
        "\n",
        "input_mat.append(np.array([[1, 2, 1, 2, 4, 5],\n",
        "                      [2, 4, 2, 1, 0, 3],\n",
        "                      [1, 2, 4, 2, 4, 5],\n",
        "                      [2, 1, 2, 1, 2, 1],\n",
        "                      [1, 1, 2, 3, 1, 2]]))\n",
        "s.append(2)\n",
        "\n",
        "input_mat = np.asarray(input_mat)\n",
        "s = np.asarray(s)\n",
        "\n",
        "def find_max(input_mat):\n",
        "  max_val = -1\n",
        "  input_mat = input_mat.flatten();\n",
        "  for val in input_mat:\n",
        "    if val > max_val:\n",
        "      max_val = val\n",
        "  return max_val\n",
        "\n",
        "def maxpooling2d(input_mat, s):\n",
        "  input_height = input_mat.shape[1]\n",
        "  input_width = input_mat.shape[2]\n",
        "  size = s[0]\n",
        "  stride = s[0]\n",
        "  output = []\n",
        "\n",
        "  h1 = 0\n",
        "  w1 = 0\n",
        "  h2 = stride\n",
        "  w2 = stride\n",
        "\n",
        "  while h2 <= input_height + 1:\n",
        "    w1 = 0\n",
        "    w2 = stride\n",
        "    out = []\n",
        "    while w2 <= input_width + 1:\n",
        "      pool = input_mat[0, h1:h2, w1:w2]\n",
        "      max_val = find_max(pool)\n",
        "      out.append(max_val)\n",
        "      w1 += stride\n",
        "      w2 += stride\n",
        "    output.append(out)\n",
        "    h1 += stride\n",
        "    h2 += stride\n",
        "  \n",
        "  output = np.asarray(output)\n",
        "  return output\n",
        "\n",
        "output_mat = maxpooling2d(input_mat, s)\n",
        "print(output_mat)"
      ],
      "execution_count": 0,
      "outputs": [
        {
          "output_type": "stream",
          "text": [
            "[[4 2 5]\n",
            " [2 4 5]\n",
            " [1 3 2]]\n"
          ],
          "name": "stdout"
        }
      ]
    }
  ]
}