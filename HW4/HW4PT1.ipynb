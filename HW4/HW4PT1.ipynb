{
  "nbformat": 4,
  "nbformat_minor": 0,
  "metadata": {
    "colab": {
      "name": "HW4PT1.ipynb",
      "provenance": [],
      "authorship_tag": "ABX9TyPzbnRwZfHlGWnP6iDRwliI",
      "include_colab_link": true
    },
    "kernelspec": {
      "name": "python3",
      "display_name": "Python 3"
    }
  },
  "cells": [
    {
      "cell_type": "markdown",
      "metadata": {
        "id": "view-in-github",
        "colab_type": "text"
      },
      "source": [
        "<a href=\"https://colab.research.google.com/github/izzyolejnik/Machine-Learning/blob/master/HW4/HW4PT1.ipynb\" target=\"_parent\"><img src=\"https://colab.research.google.com/assets/colab-badge.svg\" alt=\"Open In Colab\"/></a>"
      ]
    },
    {
      "cell_type": "code",
      "metadata": {
        "id": "HOJL-C2RGJh8",
        "colab_type": "code",
        "outputId": "7ee16fc2-40c5-4a0c-dc1d-fa27e2438008",
        "colab": {
          "base_uri": "https://localhost:8080/",
          "height": 35
        }
      },
      "source": [
        "import numpy as np\n",
        "import math\n",
        "input_mat = []\n",
        "kernel_mat = []\n",
        "\n",
        "input_mat.append(np.array([[1, -1],\n",
        "                       [-1, 0]]))\n",
        "kernel_mat.append(np.array([[1, 0, 0, 0],\n",
        "                      [0, 1, 0, 0],\n",
        "                      [0, 0, 1, 0],\n",
        "                      [0, 0, 0, 1]]))\n",
        "\n",
        "input_mat = np.asarray(input_mat)\n",
        "kernel_mat = np.asarray(kernel_mat)\n",
        "\n",
        "def conv2d(input_mat, kernel_mat):\n",
        "  kernel = transform(kernel_mat)\n",
        "  input_height = input_mat.shape[1]\n",
        "  input_width = input_mat.shape[2]\n",
        "  kernel_height = kernel.shape[1]\n",
        "  kernel_width = kernel.shape[2]\n",
        "\n",
        "  h = kernel_height // 2 \n",
        "  w = kernel_width // 2 \n",
        "\n",
        "  output_mat = []\n",
        "\n",
        "  for i in range(h, input_height-h+1):\n",
        "    for j in range(w, input_width-w+1):\n",
        "      sum = 0\n",
        "\n",
        "      for m in range(kernel_height):\n",
        "        for n in range(kernel_width):\n",
        "          sum = sum + kernel[0][m][n]*input_mat[0][i-h+m][j-w+n]\n",
        "      \n",
        "      output_mat.append(sum)\n",
        "  \n",
        "  output_shape = math.floor(math.sqrt(len(output_mat)))\n",
        "  output_mat = np.asarray(output_mat).reshape(output_shape, output_shape)\n",
        "  return output_mat\n",
        "\n",
        "def transform(kernel_mat):\n",
        "  kernel = kernel_mat.copy()\n",
        "  height = kernel_mat.shape[1]\n",
        "  width = kernel_mat.shape[2]\n",
        "  for i in range(height):\n",
        "    for j in range(width):\n",
        "      kernel[0][i][j] = kernel_mat[0][height-i-1][width-j-1]\n",
        "  return kernel\n",
        "\n",
        "output_mat = conv2d(input_mat, kernel_mat)\n",
        "print(output_mat)"
      ],
      "execution_count": 0,
      "outputs": [
        {
          "output_type": "stream",
          "text": [
            "[]\n"
          ],
          "name": "stdout"
        }
      ]
    }
  ]
}