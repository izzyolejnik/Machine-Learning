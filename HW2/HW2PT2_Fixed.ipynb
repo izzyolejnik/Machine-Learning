{
  "nbformat": 4,
  "nbformat_minor": 0,
  "metadata": {
    "colab": {
      "name": "HW2PT2-Fixed.ipynb",
      "provenance": [],
      "authorship_tag": "ABX9TyNHJbzi8PK/OwP7mbH7czEb",
      "include_colab_link": true
    },
    "kernelspec": {
      "name": "python3",
      "display_name": "Python 3"
    }
  },
  "cells": [
    {
      "cell_type": "markdown",
      "metadata": {
        "id": "view-in-github",
        "colab_type": "text"
      },
      "source": [
        "<a href=\"https://colab.research.google.com/github/izzyolejnik/Machine-Learning/blob/master/HW2/HW2PT2_Fixed.ipynb\" target=\"_parent\"><img src=\"https://colab.research.google.com/assets/colab-badge.svg\" alt=\"Open In Colab\"/></a>"
      ]
    },
    {
      "cell_type": "code",
      "metadata": {
        "id": "GI6QpAlqJW1K",
        "colab_type": "code",
        "colab": {}
      },
      "source": [
        "import keras\n",
        "from keras.datasets import mnist\n",
        "import tensorflow as tf \n",
        "import matplotlib.pyplot as plt\n",
        "import numpy as np\n",
        "(train_images, train_labels), (test_images, test_labels) = tf.keras.datasets.mnist.load_data()\n"
      ],
      "execution_count": 0,
      "outputs": []
    },
    {
      "cell_type": "code",
      "metadata": {
        "id": "zO_EsMc9MKa1",
        "colab_type": "code",
        "outputId": "2a5579dc-86aa-4f15-b37c-77a76bb09c8c",
        "colab": {
          "base_uri": "https://localhost:8080/",
          "height": 35
        }
      },
      "source": [
        "train_labels.shape"
      ],
      "execution_count": 0,
      "outputs": [
        {
          "output_type": "execute_result",
          "data": {
            "text/plain": [
              "(60000,)"
            ]
          },
          "metadata": {
            "tags": []
          },
          "execution_count": 26
        }
      ]
    },
    {
      "cell_type": "code",
      "metadata": {
        "id": "1u4OWRZBMRRA",
        "colab_type": "code",
        "outputId": "8785d626-a180-47fe-c6a3-5fe8a758d045",
        "colab": {
          "base_uri": "https://localhost:8080/",
          "height": 35
        }
      },
      "source": [
        "len(train_labels)"
      ],
      "execution_count": 0,
      "outputs": [
        {
          "output_type": "execute_result",
          "data": {
            "text/plain": [
              "60000"
            ]
          },
          "metadata": {
            "tags": []
          },
          "execution_count": 27
        }
      ]
    },
    {
      "cell_type": "code",
      "metadata": {
        "id": "XY5t_XV3LbMD",
        "colab_type": "code",
        "colab": {}
      },
      "source": [
        "avg = []\n",
        "digit = []\n",
        "for i in range(28):\n",
        "  digit.append((0))\n",
        "  avg.append(digit)"
      ],
      "execution_count": 0,
      "outputs": []
    },
    {
      "cell_type": "code",
      "metadata": {
        "id": "8zbk23RwNSmL",
        "colab_type": "code",
        "colab": {}
      },
      "source": [
        "array = np.array(avg)"
      ],
      "execution_count": 0,
      "outputs": []
    },
    {
      "cell_type": "code",
      "metadata": {
        "id": "w26Dwv3sR2xR",
        "colab_type": "code",
        "colab": {}
      },
      "source": [
        "digits = np.array([array, \n",
        "                   array, \n",
        "                   array, \n",
        "                   array, \n",
        "                   array, \n",
        "                   array, \n",
        "                   array,\n",
        "                   array,\n",
        "                   array,\n",
        "                   array])"
      ],
      "execution_count": 0,
      "outputs": []
    },
    {
      "cell_type": "code",
      "metadata": {
        "id": "fwkTUPn7Reue",
        "colab_type": "code",
        "outputId": "53834f6b-572d-43b3-ef5e-1da9527d2be2",
        "colab": {
          "base_uri": "https://localhost:8080/",
          "height": 35
        }
      },
      "source": [
        "digits.shape"
      ],
      "execution_count": 0,
      "outputs": [
        {
          "output_type": "execute_result",
          "data": {
            "text/plain": [
              "(10, 28, 28)"
            ]
          },
          "metadata": {
            "tags": []
          },
          "execution_count": 81
        }
      ]
    },
    {
      "cell_type": "code",
      "metadata": {
        "id": "uMVeTzR6M2Wv",
        "colab_type": "code",
        "outputId": "d12e7ac5-ba1f-49ac-ea91-a7cfd34adc52",
        "colab": {
          "base_uri": "https://localhost:8080/",
          "height": 35
        }
      },
      "source": [
        "train_labels"
      ],
      "execution_count": 0,
      "outputs": [
        {
          "output_type": "execute_result",
          "data": {
            "text/plain": [
              "array([5, 0, 4, ..., 5, 6, 8], dtype=uint8)"
            ]
          },
          "metadata": {
            "tags": []
          },
          "execution_count": 82
        }
      ]
    },
    {
      "cell_type": "code",
      "metadata": {
        "id": "yo36cgzEMAGd",
        "colab_type": "code",
        "colab": {}
      },
      "source": [
        "for n in range(10):\n",
        "  total = 0;\n",
        "  for i in range(len(train_labels)):\n",
        "    if(train_labels[i] == n):\n",
        "      digits[n] = digits[n] + train_images[i]\n",
        "      total += 1\n",
        "  digits[n] = digits[n] / total"
      ],
      "execution_count": 0,
      "outputs": []
    },
    {
      "cell_type": "code",
      "metadata": {
        "id": "dtSmByEYJlaI",
        "colab_type": "code",
        "outputId": "8b5410bd-3381-4540-d23a-80458fcee0de",
        "colab": {
          "base_uri": "https://localhost:8080/",
          "height": 274
        }
      },
      "source": [
        "plt.figure(figsize=(25, 25))\n",
        "for n in range(10):\n",
        "    ax = plt.subplot(5, 5, n + 1)\n",
        "    plt.imshow(digits[n])\n",
        "    plt.title(n)\n",
        "    plt.axis('off')"
      ],
      "execution_count": 0,
      "outputs": [
        {
          "output_type": "display_data",
          "data": {
            "image/png": "[encoded data removed]",
            "text/plain": [
              "<Figure size 1800x1800 with 10 Axes>"
            ]
          },
          "metadata": {
            "tags": []
          }
        }
      ]
    }
  ]
}